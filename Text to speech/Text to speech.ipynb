{
 "cells": [
  {
   "cell_type": "code",
   "execution_count": 3,
   "id": "46a6c87e",
   "metadata": {},
   "outputs": [
    {
     "name": "stdout",
     "output_type": "stream",
     "text": [
      "Collecting gtts"
     ]
    },
    {
     "name": "stderr",
     "output_type": "stream",
     "text": [
      "WARNING: You are using pip version 22.0.4; however, version 22.2.2 is available."
     ]
    },
    {
     "name": "stdout",
     "output_type": "stream",
     "text": [
      "\n",
      "  Using cached gTTS-2.2.4-py3-none-any.whl (26 kB)\n",
      "Requirement already satisfied: six in c:\\users\\rasith\\.conda\\envs\\py39\\lib\\site-packages (from gtts) (1.16.0)\n",
      "Requirement already satisfied: click in c:\\users\\rasith\\.conda\\envs\\py39\\lib\\site-packages (from gtts) (8.0.3)\n",
      "Requirement already satisfied: requests in c:\\users\\rasith\\.conda\\envs\\py39\\lib\\site-packages (from gtts) (2.27.1)\n",
      "Requirement already satisfied: colorama in c:\\users\\rasith\\.conda\\envs\\py39\\lib\\site-packages (from click->gtts) (0.4.4)\n",
      "Requirement already satisfied: certifi>=2017.4.17 in c:\\users\\rasith\\.conda\\envs\\py39\\lib\\site-packages (from requests->gtts) (2021.10.8)\n",
      "Requirement already satisfied: urllib3<1.27,>=1.21.1 in c:\\users\\rasith\\.conda\\envs\\py39\\lib\\site-packages (from requests->gtts) (1.26.8)\n",
      "Requirement already satisfied: idna<4,>=2.5 in c:\\users\\rasith\\.conda\\envs\\py39\\lib\\site-packages (from requests->gtts) (3.3)\n",
      "Requirement already satisfied: charset-normalizer~=2.0.0 in c:\\users\\rasith\\.conda\\envs\\py39\\lib\\site-packages (from requests->gtts) (2.0.4)\n",
      "Installing collected packages: gtts\n",
      "Successfully installed gtts-2.2.4\n"
     ]
    },
    {
     "name": "stderr",
     "output_type": "stream",
     "text": [
      "\n",
      "You should consider upgrading via the 'C:\\Users\\Rasith\\.conda\\envs\\py39\\python.exe -m pip install --upgrade pip' command.\n"
     ]
    }
   ],
   "source": [
    "! pip install gtts"
   ]
  },
  {
   "cell_type": "code",
   "execution_count": null,
   "id": "68f9da03",
   "metadata": {},
   "outputs": [],
   "source": []
  },
  {
   "cell_type": "code",
   "execution_count": 20,
   "id": "20356cc3",
   "metadata": {},
   "outputs": [],
   "source": [
    "import pandas as pd\n",
    "from gtts import gTTS\n",
    "import os\n",
    "\n",
    "fh=open(\"E:\\\\Data Science\\\\Data for Projects\\\\Text to speech\\\\rasith.txt\",'r') ##If text or audio file to save need to put \\\\ two\n",
    "\n",
    "#fh=pd.read_csv(\"E:\\Data Science\\Data for Projects\\Text to speech\\rasith.txt\")\n",
    "\n",
    "my_text=fh.read().replace('\\n','')\n",
    "\n",
    "#my_text=\"I am B.M.Rasith, Final year Undergratuat at university of moratuwa Sri Lanka\"\n",
    "#lang = 'en'\n",
    "output=gTTS(text=my_text,lang='en',slow=False)\n",
    "\n",
    "output.save('E:\\\\Data Science\\\\Data for Projects\\\\Text to speech\\\\rasith.mp3')\n",
    "#os.system(\"start rasith.mp3\")"
   ]
  },
  {
   "cell_type": "code",
   "execution_count": null,
   "id": "1bcf8aee",
   "metadata": {},
   "outputs": [],
   "source": []
  }
 ],
 "metadata": {
  "kernelspec": {
   "display_name": "Python 3 (ipykernel)",
   "language": "python",
   "name": "python3"
  },
  "language_info": {
   "codemirror_mode": {
    "name": "ipython",
    "version": 3
   },
   "file_extension": ".py",
   "mimetype": "text/x-python",
   "name": "python",
   "nbconvert_exporter": "python",
   "pygments_lexer": "ipython3",
   "version": "3.9.7"
  }
 },
 "nbformat": 4,
 "nbformat_minor": 5
}
